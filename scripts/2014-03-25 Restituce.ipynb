{
 "metadata": {
  "name": ""
 },
 "nbformat": 3,
 "nbformat_minor": 0,
 "worksheets": [
  {
   "cells": [
    {
     "cell_type": "code",
     "collapsed": false,
     "input": [
      "import pandas as pd\n",
      "import csv"
     ],
     "language": "python",
     "metadata": {},
     "outputs": [],
     "prompt_number": 2
    },
    {
     "cell_type": "code",
     "collapsed": false,
     "input": [
      "vydano = pd.DataFrame.from_csv('/Users/jancibulka/Dropbox/Share/Marcel/restituce_vydano', sep=';', index_col=False)"
     ],
     "language": "python",
     "metadata": {},
     "outputs": [],
     "prompt_number": 21
    },
    {
     "cell_type": "code",
     "collapsed": false,
     "input": [
      "vydano.head()"
     ],
     "language": "python",
     "metadata": {},
     "outputs": [
      {
       "html": [
        "<div style=\"max-height:1000px;max-width:1500px;overflow:auto;\">\n",
        "<table border=\"1\" class=\"dataframe\">\n",
        "  <thead>\n",
        "    <tr style=\"text-align: right;\">\n",
        "      <th></th>\n",
        "      <th>id</th>\n",
        "      <th>katastr</th>\n",
        "      <th>kmenove</th>\n",
        "      <th>parcelni</th>\n",
        "      <th>vydal</th>\n",
        "    </tr>\n",
        "  </thead>\n",
        "  <tbody>\n",
        "    <tr>\n",
        "      <th>0</th>\n",
        "      <td> 1</td>\n",
        "      <td> 649139</td>\n",
        "      <td> 826</td>\n",
        "      <td>  1</td>\n",
        "      <td> L\u010cR</td>\n",
        "    </tr>\n",
        "    <tr>\n",
        "      <th>1</th>\n",
        "      <td> 2</td>\n",
        "      <td> 649139</td>\n",
        "      <td> 826</td>\n",
        "      <td>  2</td>\n",
        "      <td> L\u010cR</td>\n",
        "    </tr>\n",
        "    <tr>\n",
        "      <th>2</th>\n",
        "      <td> 3</td>\n",
        "      <td> 649139</td>\n",
        "      <td> 957</td>\n",
        "      <td>NaN</td>\n",
        "      <td> L\u010cR</td>\n",
        "    </tr>\n",
        "    <tr>\n",
        "      <th>3</th>\n",
        "      <td> 4</td>\n",
        "      <td> 649139</td>\n",
        "      <td> 958</td>\n",
        "      <td>NaN</td>\n",
        "      <td> L\u010cR</td>\n",
        "    </tr>\n",
        "    <tr>\n",
        "      <th>4</th>\n",
        "      <td> 5</td>\n",
        "      <td> 649139</td>\n",
        "      <td> 959</td>\n",
        "      <td>NaN</td>\n",
        "      <td> L\u010cR</td>\n",
        "    </tr>\n",
        "  </tbody>\n",
        "</table>\n",
        "</div>"
       ],
       "metadata": {},
       "output_type": "pyout",
       "prompt_number": 22,
       "text": [
        "   id  katastr  kmenove  parcelni vydal\n",
        "0   1   649139      826         1   L\u010cR\n",
        "1   2   649139      826         2   L\u010cR\n",
        "2   3   649139      957       NaN   L\u010cR\n",
        "3   4   649139      958       NaN   L\u010cR\n",
        "4   5   649139      959       NaN   L\u010cR"
       ]
      }
     ],
     "prompt_number": 22
    },
    {
     "cell_type": "code",
     "collapsed": false,
     "input": [
      "data = pd.DataFrame.from_csv('/Users/jancibulka/Downloads/restituce-za-2013.csv', sep=',', index_col=False)"
     ],
     "language": "python",
     "metadata": {},
     "outputs": [],
     "prompt_number": 23
    },
    {
     "cell_type": "code",
     "collapsed": false,
     "input": [
      "data.head(5)"
     ],
     "language": "python",
     "metadata": {},
     "outputs": [
      {
       "html": [
        "<div style=\"max-height:1000px;max-width:1500px;overflow:auto;\">\n",
        "<table border=\"1\" class=\"dataframe\">\n",
        "  <thead>\n",
        "    <tr style=\"text-align: right;\">\n",
        "      <th></th>\n",
        "      <th>katastr</th>\n",
        "      <th>kmenove</th>\n",
        "      <th>parcelni</th>\n",
        "      <th>vydal</th>\n",
        "      <th>bonitovanedily-bonitovanydil-rizeniid</th>\n",
        "      <th>zpusobyochranypozemku-zpusobochrany-kod</th>\n",
        "      <th>typochranykod</th>\n",
        "      <th>zpusobyochranypozemku-zpusobochrany-idtransakce</th>\n",
        "      <th>zpusobyochranypozemku-zpusobochrany-rizeniid</th>\n",
        "      <th>zpusobyvyuzitipozemku</th>\n",
        "      <th>Column 11</th>\n",
        "      <th>Column 12</th>\n",
        "    </tr>\n",
        "  </thead>\n",
        "  <tbody>\n",
        "    <tr>\n",
        "      <th>0</th>\n",
        "      <td> 649139</td>\n",
        "      <td> 826</td>\n",
        "      <td>  1</td>\n",
        "      <td> L\u010cR</td>\n",
        "      <td>NaN</td>\n",
        "      <td> 26</td>\n",
        "      <td> 6</td>\n",
        "      <td> 431727</td>\n",
        "      <td> 28529554010</td>\n",
        "      <td>NaN</td>\n",
        "      <td>NaN</td>\n",
        "      <td>NaN</td>\n",
        "    </tr>\n",
        "    <tr>\n",
        "      <th>1</th>\n",
        "      <td> 649139</td>\n",
        "      <td> 826</td>\n",
        "      <td>  2</td>\n",
        "      <td> L\u010cR</td>\n",
        "      <td>NaN</td>\n",
        "      <td> 26</td>\n",
        "      <td> 6</td>\n",
        "      <td> 431727</td>\n",
        "      <td> 28529554010</td>\n",
        "      <td>NaN</td>\n",
        "      <td>NaN</td>\n",
        "      <td>NaN</td>\n",
        "    </tr>\n",
        "    <tr>\n",
        "      <th>2</th>\n",
        "      <td> 649139</td>\n",
        "      <td> 957</td>\n",
        "      <td>NaN</td>\n",
        "      <td> L\u010cR</td>\n",
        "      <td>NaN</td>\n",
        "      <td> 26</td>\n",
        "      <td> 6</td>\n",
        "      <td> 431727</td>\n",
        "      <td> 28529554010</td>\n",
        "      <td>NaN</td>\n",
        "      <td>NaN</td>\n",
        "      <td>NaN</td>\n",
        "    </tr>\n",
        "    <tr>\n",
        "      <th>3</th>\n",
        "      <td> 649139</td>\n",
        "      <td> 958</td>\n",
        "      <td>NaN</td>\n",
        "      <td> L\u010cR</td>\n",
        "      <td>NaN</td>\n",
        "      <td> 26</td>\n",
        "      <td> 6</td>\n",
        "      <td> 431727</td>\n",
        "      <td> 28529554010</td>\n",
        "      <td>NaN</td>\n",
        "      <td>NaN</td>\n",
        "      <td>NaN</td>\n",
        "    </tr>\n",
        "    <tr>\n",
        "      <th>4</th>\n",
        "      <td> 649139</td>\n",
        "      <td> 959</td>\n",
        "      <td>NaN</td>\n",
        "      <td> L\u010cR</td>\n",
        "      <td>NaN</td>\n",
        "      <td> 26</td>\n",
        "      <td> 6</td>\n",
        "      <td> 431727</td>\n",
        "      <td> 28529554010</td>\n",
        "      <td>NaN</td>\n",
        "      <td>NaN</td>\n",
        "      <td>NaN</td>\n",
        "    </tr>\n",
        "  </tbody>\n",
        "</table>\n",
        "</div>"
       ],
       "metadata": {},
       "output_type": "pyout",
       "prompt_number": 24,
       "text": [
        "   katastr  kmenove  parcelni vydal  bonitovanedily-bonitovanydil-rizeniid  \\\n",
        "0   649139      826         1   L\u010cR                                    NaN   \n",
        "1   649139      826         2   L\u010cR                                    NaN   \n",
        "2   649139      957       NaN   L\u010cR                                    NaN   \n",
        "3   649139      958       NaN   L\u010cR                                    NaN   \n",
        "4   649139      959       NaN   L\u010cR                                    NaN   \n",
        "\n",
        "   zpusobyochranypozemku-zpusobochrany-kod  typochranykod  \\\n",
        "0                                       26              6   \n",
        "1                                       26              6   \n",
        "2                                       26              6   \n",
        "3                                       26              6   \n",
        "4                                       26              6   \n",
        "\n",
        "   zpusobyochranypozemku-zpusobochrany-idtransakce  \\\n",
        "0                                           431727   \n",
        "1                                           431727   \n",
        "2                                           431727   \n",
        "3                                           431727   \n",
        "4                                           431727   \n",
        "\n",
        "   zpusobyochranypozemku-zpusobochrany-rizeniid  zpusobyvyuzitipozemku  \\\n",
        "0                                   28529554010                    NaN   \n",
        "1                                   28529554010                    NaN   \n",
        "2                                   28529554010                    NaN   \n",
        "3                                   28529554010                    NaN   \n",
        "4                                   28529554010                    NaN   \n",
        "\n",
        "   Column 11  Column 12  \n",
        "0        NaN        NaN  \n",
        "1        NaN        NaN  \n",
        "2        NaN        NaN  \n",
        "3        NaN        NaN  \n",
        "4        NaN        NaN  "
       ]
      }
     ],
     "prompt_number": 24
    },
    {
     "cell_type": "code",
     "collapsed": false,
     "input": [
      "vyuziti = {1: 'sklen\u00edk, pa\u0159eni\u0161t\u011b', 2: '\u0161kolka', 3: 'plant\u00e1\u017e d\u0159evin', 4: 'les jin\u00fd ne\u017e hospod\u00e1\u0159sk\u00fd', 5: 'lesn\u00ed pozemek, na kter\u00e9m je budova', 6: 'rybn\u00edk', 7: 'koryto vodn\u00edho toku p\u0159irozen\u00e9 nebo upraven\u00e9', 8: 'koryto vodn\u00edho toku um\u011bl\u00e9', 9: 'vodn\u00ed n\u00e1dr\u017e p\u0159\u00edrodn\u00ed', 10: 'vodn\u00ed n\u00e1dr\u017e um\u011bl\u00e1', 11: 'zamok\u0159en\u00e1 plocha', 12: 'spole\u010dn\u00fd dv\u016fr', 13: 'zbo\u0159eni\u0161t\u011b', 14: 'dr\u00e1ha', 15: 'd\u00e1lnice', 16: 'silnice', 17: 'ostatn\u00ed komunikace', 18: 'ostatn\u00ed dopravn\u00ed plocha', 19: 'zele\u0148', 20: 'sportovi\u0161t\u011b a rekrea\u010dn\u00ed plocha', 21: 'h\u0159bitov, urnov\u00fd h\u00e1j', 22: 'kulturn\u00ed a osv\u011btov\u00e1 plocha', 23: 'manipula\u010dn\u00ed plocha', 24: 'dob\u00fdvac\u00ed prostor', 25: 'skl\u00e1dka', 26: 'jin\u00e1 plocha', 27: 'neplodn\u00e1 p\u016fda', 28: 'vodn\u00ed plocha, na kter\u00e9 je budova', 29: 'fotovoltaick\u00e1 elektr\u00e1rna'}"
     ],
     "language": "python",
     "metadata": {},
     "outputs": [],
     "prompt_number": 42
    },
    {
     "cell_type": "code",
     "collapsed": false,
     "input": [
      "data[\"vyuziti\"] = data[\"zpusobyvyuzitipozemku\"].map(vyuziti)"
     ],
     "language": "python",
     "metadata": {},
     "outputs": [],
     "prompt_number": 43
    },
    {
     "cell_type": "code",
     "collapsed": false,
     "input": [
      "data.to_csv('restituce-prostituce.csv')"
     ],
     "language": "python",
     "metadata": {},
     "outputs": [],
     "prompt_number": 47
    },
    {
     "cell_type": "code",
     "collapsed": false,
     "input": [
      "dat = pd.merge(data, vydano, on=['katastr','kmenove','parcelni'], how='right')"
     ],
     "language": "python",
     "metadata": {},
     "outputs": [],
     "prompt_number": 35
    },
    {
     "cell_type": "code",
     "collapsed": false,
     "input": [
      "dat[dat.vydal_x != dat.vydal_x].head(30).to_csv('restituce-vadne.csv')"
     ],
     "language": "python",
     "metadata": {},
     "outputs": [],
     "prompt_number": 49
    }
   ],
   "metadata": {}
  }
 ]
}